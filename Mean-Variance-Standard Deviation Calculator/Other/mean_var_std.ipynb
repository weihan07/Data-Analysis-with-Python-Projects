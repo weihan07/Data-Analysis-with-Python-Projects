{
 "cells": [
  {
   "cell_type": "code",
   "execution_count": 4,
   "id": "63ce1871-722b-43d7-a77c-af2ee52daa9a",
   "metadata": {},
   "outputs": [],
   "source": [
    "import numpy as np\n",
    "\n",
    "def calculate(list):\n",
    "    if len(list) != 9:\n",
    "        raise ValueError(\"List must contain nine numbers.\")\n",
    "    \n",
    "    # Convert the list into a 3x3 numpy array\n",
    "    matrix = np.array(list).reshape(3, 3)\n",
    "    \n",
    "    # Calculate the required statistics\n",
    "    mean_axis1 = np.mean(matrix, axis=0).tolist()\n",
    "    mean_axis2 = np.mean(matrix, axis=1).tolist()\n",
    "    mean_flat = np.mean(matrix).tolist()\n",
    "    \n",
    "    variance_axis1 = np.var(matrix, axis=0).tolist()\n",
    "    variance_axis2 = np.var(matrix, axis=1).tolist()\n",
    "    variance_flat = np.var(matrix).tolist()\n",
    "    \n",
    "    std_dev_axis1 = np.std(matrix, axis=0).tolist()\n",
    "    std_dev_axis2 = np.std(matrix, axis=1).tolist()\n",
    "    std_dev_flat = np.std(matrix).tolist()\n",
    "    \n",
    "    max_axis1 = np.max(matrix, axis=0).tolist()\n",
    "    max_axis2 = np.max(matrix, axis=1).tolist()\n",
    "    max_flat = np.max(matrix).tolist()\n",
    "    \n",
    "    min_axis1 = np.min(matrix, axis=0).tolist()\n",
    "    min_axis2 = np.min(matrix, axis=1).tolist()\n",
    "    min_flat = np.min(matrix).tolist()\n",
    "    \n",
    "    sum_axis1 = np.sum(matrix, axis=0).tolist()\n",
    "    sum_axis2 = np.sum(matrix, axis=1).tolist()\n",
    "    sum_flat = np.sum(matrix).tolist()\n",
    "    \n",
    "    # Create the dictionary with the results\n",
    "    calculations = {\n",
    "        'mean': [mean_axis1, mean_axis2, mean_flat],\n",
    "        'variance': [variance_axis1, variance_axis2, variance_flat],\n",
    "        'standard deviation': [std_dev_axis1, std_dev_axis2, std_dev_flat],\n",
    "        'max': [max_axis1, max_axis2, max_flat],\n",
    "        'min': [min_axis1, min_axis2, min_flat],\n",
    "        'sum': [sum_axis1, sum_axis2, sum_flat]\n",
    "    }\n",
    "    \n",
    "    return calculations"
   ]
  },
  {
   "cell_type": "code",
   "execution_count": null,
   "id": "01c2d43d-3c99-4b3a-9efb-e9ec42a5be44",
   "metadata": {},
   "outputs": [],
   "source": []
  }
 ],
 "metadata": {
  "kernelspec": {
   "display_name": "Python 3 (ipykernel)",
   "language": "python",
   "name": "python3"
  },
  "language_info": {
   "codemirror_mode": {
    "name": "ipython",
    "version": 3
   },
   "file_extension": ".py",
   "mimetype": "text/x-python",
   "name": "python",
   "nbconvert_exporter": "python",
   "pygments_lexer": "ipython3",
   "version": "3.12.4"
  }
 },
 "nbformat": 4,
 "nbformat_minor": 5
}
