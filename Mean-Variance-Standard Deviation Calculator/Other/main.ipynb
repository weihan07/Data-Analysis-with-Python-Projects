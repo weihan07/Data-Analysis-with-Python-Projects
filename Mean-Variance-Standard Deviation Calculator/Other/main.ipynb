{
 "cells": [
  {
   "cell_type": "code",
   "execution_count": null,
   "id": "763c5274-84fc-4a03-b395-bc31df807524",
   "metadata": {},
   "outputs": [],
   "source": [
    "# This entrypoint file to be used in development. Start by reading README.md\n",
    "import mean_var_std\n",
    "from unittest import main\n",
    "\n",
    "print(mean_var_std.calculate([0,1,2,3,4,5,6,7,8]))\n",
    "\n",
    "# Run unit tests automatically\n",
    "main(module='test_module', exit=False)"
   ]
  }
 ],
 "metadata": {
  "kernelspec": {
   "display_name": "Python 3 (ipykernel)",
   "language": "python",
   "name": "python3"
  },
  "language_info": {
   "codemirror_mode": {
    "name": "ipython",
    "version": 3
   },
   "file_extension": ".py",
   "mimetype": "text/x-python",
   "name": "python",
   "nbconvert_exporter": "python",
   "pygments_lexer": "ipython3",
   "version": "3.12.4"
  }
 },
 "nbformat": 4,
 "nbformat_minor": 5
}
